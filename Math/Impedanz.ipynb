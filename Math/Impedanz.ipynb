{
 "cells": [
  {
   "cell_type": "markdown",
   "id": "7cac98a1-1025-43fc-9390-a04044485e1f",
   "metadata": {},
   "source": [
    "# Sternschaltung mit Impedanz"
   ]
  },
  {
   "cell_type": "code",
   "execution_count": 1,
   "id": "a8af3a15-feaf-41eb-b58b-bc7d1a6d5489",
   "metadata": {},
   "outputs": [],
   "source": [
    "za = 1 + 1j\n",
    "zb = 1 + 1j\n",
    "zc = 1 + 1j"
   ]
  },
  {
   "cell_type": "code",
   "execution_count": 6,
   "id": "8459ba18-3196-4012-ad2c-bbabac544443",
   "metadata": {},
   "outputs": [],
   "source": [
    "zab = ((za * zb) / zc) + za + zb\n",
    "zac = ((za * zc) / zb) + za + zb\n",
    "zbc = ((zb * zc) / za) + zb + zc"
   ]
  },
  {
   "cell_type": "code",
   "execution_count": 7,
   "id": "51130cd2-1915-4382-b694-508c63e95f59",
   "metadata": {},
   "outputs": [
    {
     "name": "stdout",
     "output_type": "stream",
     "text": [
      "(3+3j)\n",
      "(3+3j)\n",
      "(3+3j)\n"
     ]
    }
   ],
   "source": [
    "print(zab)\n",
    "print(zac)\n",
    "print(zbc)"
   ]
  },
  {
   "cell_type": "code",
   "execution_count": null,
   "id": "5a3eb12c-8c50-4771-a4bc-57aea99bf677",
   "metadata": {},
   "outputs": [],
   "source": []
  }
 ],
 "metadata": {
  "kernelspec": {
   "display_name": "Python 3 (ipykernel)",
   "language": "python",
   "name": "python3"
  },
  "language_info": {
   "codemirror_mode": {
    "name": "ipython",
    "version": 3
   },
   "file_extension": ".py",
   "mimetype": "text/x-python",
   "name": "python",
   "nbconvert_exporter": "python",
   "pygments_lexer": "ipython3",
   "version": "3.11.6"
  }
 },
 "nbformat": 4,
 "nbformat_minor": 5
}
