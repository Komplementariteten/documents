{
 "cells": [
  {
   "cell_type": "code",
   "execution_count": 1,
   "id": "d7e9028a-795a-49a0-8f2b-718d0d43e772",
   "metadata": {},
   "outputs": [
    {
     "data": {
      "text/plain": [
       "(-10+70j)"
      ]
     },
     "execution_count": 1,
     "metadata": {},
     "output_type": "execute_result"
    }
   ],
   "source": [
    "a = 10 + 5j\n",
    "b = 2 + 6j\n",
    "a * b"
   ]
  },
  {
   "cell_type": "code",
   "execution_count": 2,
   "id": "a56216b8-1f34-4185-a495-267cfaeae1de",
   "metadata": {},
   "outputs": [
    {
     "data": {
      "text/plain": [
       "(24.6+6.5j)"
      ]
     },
     "execution_count": 2,
     "metadata": {},
     "output_type": "execute_result"
    }
   ],
   "source": [
    "a = 2.5 + 0.4j\n",
    "b = 10 + 1j\n",
    "a * b"
   ]
  },
  {
   "cell_type": "code",
   "execution_count": 3,
   "id": "65d06e2e-5ee7-40ea-b9d2-173ae997fe48",
   "metadata": {},
   "outputs": [
    {
     "data": {
      "text/plain": [
       "(-8.7+11.5j)"
      ]
     },
     "execution_count": 3,
     "metadata": {},
     "output_type": "execute_result"
    }
   ],
   "source": [
    "a = 1.25 + 4j\n",
    "b = 2 + 2.8j\n",
    "a * b\n"
   ]
  },
  {
   "cell_type": "code",
   "execution_count": 4,
   "id": "0827928c-59a6-40b8-900d-a97774120a4d",
   "metadata": {},
   "outputs": [
    {
     "data": {
      "text/plain": [
       "(26.1-6.45j)"
      ]
     },
     "execution_count": 4,
     "metadata": {},
     "output_type": "execute_result"
    }
   ],
   "source": [
    "(7.2 + 2.1j) * (3.1 - 1.8j)"
   ]
  },
  {
   "cell_type": "code",
   "execution_count": 6,
   "id": "c15335fc-d980-436f-8fc6-bbf11d5d8082",
   "metadata": {},
   "outputs": [
    {
     "data": {
      "text/plain": [
       "(0.96+0.28j)"
      ]
     },
     "execution_count": 6,
     "metadata": {},
     "output_type": "execute_result"
    }
   ],
   "source": [
    "(1.5 + 2j) / (2 + 1.5j)"
   ]
  },
  {
   "cell_type": "code",
   "execution_count": null,
   "id": "9dffb596-38e9-493f-98b0-c74c1fe9d1e1",
   "metadata": {},
   "outputs": [],
   "source": []
  }
 ],
 "metadata": {
  "kernelspec": {
   "display_name": "Python 3 (ipykernel)",
   "language": "python",
   "name": "python3"
  },
  "language_info": {
   "codemirror_mode": {
    "name": "ipython",
    "version": 3
   },
   "file_extension": ".py",
   "mimetype": "text/x-python",
   "name": "python",
   "nbconvert_exporter": "python",
   "pygments_lexer": "ipython3",
   "version": "3.11.6"
  }
 },
 "nbformat": 4,
 "nbformat_minor": 5
}
