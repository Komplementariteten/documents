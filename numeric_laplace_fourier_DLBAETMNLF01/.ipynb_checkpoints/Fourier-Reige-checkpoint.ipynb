{
 "cells": [
  {
   "cell_type": "markdown",
   "id": "a490e71c-8b74-4a7e-9531-b80b99e25510",
   "metadata": {},
   "source": [
    "# Einfache berechnung der Fourier-Reihe"
   ]
  },
  {
   "cell_type": "code",
   "execution_count": 5,
   "id": "5439743a-e5c9-4fb8-a715-d0a957c3e79f",
   "metadata": {
    "tags": []
   },
   "outputs": [
    {
     "name": "stdout",
     "output_type": "stream",
     "text": [
      "\u001b[?2004l\n",
      "\u001b[?2004h\u001b[?2004l\n",
      "\u001b[?2004h\u001b[?2004l\n",
      "\u001b[H\u001b[2J\u001b[?2004h\u001b[?2004l\n",
      "\u001b[?2004h\u001b[?2004l\n",
      "\u001b[?2004h\u001b[?2004l\n",
      "\u001b[?2004h\u001b[?2004l\n",
      "\u001b[?2004h\u001b[?2004l\n",
      "\u001b[?2004h\u001b[?2004l\n",
      "\u001b[?2004h\u001b[?2004l\n",
      "\u001b[?2004h\u001b[?2004l\n",
      "\u001b[?2004h\u001b[?2004l\n",
      "\u001b[?2004h\u001b[?2004l\n",
      "\u001b[?2004h\u001b[?2004l\n",
      "\u001b[?2004h\u001b[?2004l\n",
      "\u001b[?2004h\u001b[?2004l\n",
      "\u001b[?2004h\u001b[?2004l\n",
      "\u001b[?2004h\u001b[?2004l\n",
      "\u001b[?2004h\u001b[?2004l\n",
      "\u001b[?2004h\u001b[?2004l\n",
      "\u001b[?2004h\u001b[?2004l\n",
      "\u001b[?2004h\u001b[?2004l\n",
      "\u001b[?2004h\u001b[?2004l\n",
      "\u001b[?2004h\u001b[?2004l\n",
      "\u001b[?2004h\u001b[?2004l\n",
      "\u001b[?2004h\u001b[?2004l\n",
      "\u001b[?2004h\u001b[?2004l\n",
      "\u001b[?2004h\u001b[?2004l\n",
      "\u001b[?2004h\u001b[?2004l\n",
      "\u001b[?2004h\u001b[?2004l\n",
      "\u001b[?2004h\u001b[?2004l\n",
      "\u001b[?2004h\u001b[?2004l\n",
      "\u001b[?2004h\u001b[?2004l\n",
      "\u001b[?2004h\u001b[?2004l\n",
      "\u001b[?2004h\u001b[?2004l\n",
      "\u001b[?2004h\u001b[?2004l\n",
      "\u001b[?2004h\u001b[?2004l\n",
      "\u001b[?2004h\u001b[?2004l\n",
      "\u001b[?2004h\u001b[?2004l\n",
      "\u001b[?2004h\u001b[?2004l\n",
      "\u001b[?2004h\u001b[?2004l\n",
      "\u001b[?2004h\u001b[?2004l\n",
      "\u001b[?2004h"
     ]
    },
    {
     "data": {
      "image/png": "[encoded data removed]",
      "text/plain": [
       "<IPython.core.display.Image object>"
      ]
     },
     "metadata": {},
     "output_type": "display_data"
    }
   ],
   "source": [
    "close all\n",
    "clear all\n",
    "clc\n",
    "\n",
    "T=2;\n",
    "w1=2*pi/T;\n",
    "m=1;\n",
    "\n",
    "p=2;\n",
    "t_max=T*p;\n",
    "dt=0.01;\n",
    "t=0:dt:t_max;\n",
    "f=m*t-floor(t/T)*T*m;\n",
    "a0=0;\n",
    "for i=1:(T/dt)\n",
    "  f_v=f(i)+f(i+1);\n",
    "  a0=a0+(dt*(f_v)/2);\n",
    "end\n",
    "a0=2*a0/T;\n",
    "n=3;\n",
    "a=zeros(n,1);\n",
    "b=zeros(n,1);\n",
    "for k=1:n\n",
    "    for i=1:(T/dt)\n",
    "        a(k)=a(k)+dt*(f(i)*cos(k*w1*t(i))+f(i+1)*cos(k*w1*t(i+1)))/2;\n",
    "        b(k)=b(k)+dt*(f(i)*sin(k*w1*t(i))+f(i+1)*sin(k*w1*t(i+1)))/2;\n",
    "    end\n",
    "end\n",
    "a=2*a/T;\n",
    "b=2*b/T;\n",
    "\n",
    "g=f*0+(a0/2);\n",
    "for k=1:n\n",
    "    g=g+a(k)*cos(k*w1*t)+b(k)*sin(k*w1*t);\n",
    "end\n",
    "figure(1)\n",
    "grid on\n",
    "hold on\n",
    "plot(t, f, '-r', 'LineWidth', 3.0)\n",
    "plot(t, g, '-b', 'LineWidth', 1.5)\n",
    "xlabel('t in s', 'FontSize', 11)\n",
    "ylabel('f(t) und g(t)', 'FontSize', 11)"
   ]
  },
  {
   "cell_type": "markdown",
   "id": "a587633b-c9ed-410b-b4e4-657d9525bb10",
   "metadata": {},
   "source": [
    "# DFT vs FFT"
   ]
  },
  {
   "cell_type": "code",
   "execution_count": null,
   "id": "9b23f171-2725-4fc7-aee2-7e406cdccd9a",
   "metadata": {
    "tags": []
   },
   "outputs": [
    {
     "name": "stdout",
     "output_type": "stream",
     "text": [
      "\u001b[?2004l\n",
      "\u001b[?2004h\u001b[?2004l\n",
      "\u001b[?2004h\u001b[?2004l\n",
      "\u001b[H\u001b[2J\u001b[?2004h\u001b[?2004l\n",
      "\u001b[?2004h\u001b[?2004l\n",
      "\u001b[?2004h\u001b[?2004l\n",
      "\u001b[?2004h\u001b[?2004l\n",
      "\u001b[?2004h\u001b[?2004l\n",
      "\u001b[?2004h\u001b[?2004l\n",
      "\u001b[?2004h\u001b[?2004l\n",
      "\u001b[?2004h\u001b[?2004l\n",
      "\u001b[?2004h\u001b[?2004l\n",
      "\u001b[?2004h\u001b[?2004l\n",
      "\u001b[?2004h\u001b[?2004l\n",
      "\u001b[?2004h\u001b[?2004l\n",
      "\u001b[?2004h\u001b[?2004l\n",
      "\u001b[?2004h\u001b[?2004l\n",
      "\u001b[?2004h\u001b[?2004l\n",
      "\u001b[?2004h\u001b[?2004l\n",
      "\u001b[?2004h\u001b[?2004l\n",
      "\u001b[?2004h\u001b[?2004l\n",
      "\u001b[?2004h\u001b[?2004l\n",
      "\u001b[?2004h\u001b[?2004l\n",
      "\u001b[?2004h"
     ]
    }
   ],
   "source": [
    "close all\n",
    "clear all\n",
    "clc\n",
    "\n",
    "T=2;\n",
    "dt=0.001;\n",
    "t=0:dt:T;\n",
    "m=1;\n",
    "f=t*m;\n",
    "N=length(f);\n",
    "n=20;\n",
    "\n",
    "cRE=zeros(n+1, 1);\n",
    "cIM=zeros(n+1,1);\n",
    "for k=-n:1:n\n",
    "  for i=1:1:N-1\n",
    "    cRE(abs(k)+1)=cRE(abs(k)+1)+f(i)*cos(2*pi*k*i/N);\n",
    "    cIM(abs(k)+1)=cIM(abs(k)+1)+f(i)*sin(2*pi*k*i/N);\n",
    "  end\n",
    "  cRE(abs(k)+1) = cRE(abs(k)+1)/N;\n",
    "  cIM(abs(k)+1) = cIM(abs(k)+1)/N;\n",
    "end\n",
    "A=2*sqrt(cRE.^2 + cIM.^2);\n",
    "A(1) = A(1)/2;\n",
    "\n",
    "figure(1)\n",
    "grid on\n",
    "hold on\n",
    "plot((0:1:n), A, 'ob')\n",
    "c=fft(f);\n",
    "A=2*abs(c/N);\n",
    "a(1)=A(1)/2;\n",
    "plot((0:1:n), A(1:n+1), 'xg')\n",
    "legend('DFT', 'FFT')\n",
    "\n",
    "\n"
   ]
  },
  {
   "cell_type": "code",
   "execution_count": null,
   "id": "3f9bd2df-37d4-4c02-bd51-bbc6730892e2",
   "metadata": {},
   "outputs": [],
   "source": []
  }
 ],
 "metadata": {
  "kernelspec": {
   "display_name": "Octave",
   "language": "octave",
   "name": "octave"
  },
  "language_info": {
   "file_extension": ".m",
   "help_links": [
    {
     "text": "GNU Octave",
     "url": "https://www.gnu.org/software/octave/support.html"
    },
    {
     "text": "Octave Kernel",
     "url": "https://github.com/Calysto/octave_kernel"
    },
    {
     "text": "MetaKernel Magics",
     "url": "https://metakernel.readthedocs.io/en/latest/source/README.html"
    }
   ],
   "mimetype": "text/x-octave",
   "name": "octave",
   "version": "8.2.0"
  }
 },
 "nbformat": 4,
 "nbformat_minor": 5
}
