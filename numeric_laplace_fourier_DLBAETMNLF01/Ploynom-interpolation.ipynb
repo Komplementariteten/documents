{
 "cells": [
  {
   "cell_type": "markdown",
   "id": "8a408717-9947-4c2c-9eb9-4c7e65f7055d",
   "metadata": {},
   "source": [
    "# Lagrange-Interpolation"
   ]
  },
  {
   "cell_type": "code",
   "execution_count": 1,
   "id": "3c6d4b76-91f6-4611-93ec-3946ead3ca6e",
   "metadata": {
    "tags": []
   },
   "outputs": [
    {
     "name": "stdout",
     "output_type": "stream",
     "text": [
      "\u001b[?2004l\n",
      "\n",
      "\n",
      "\n",
      "\u001b[?2004h\n",
      "\u001b[?2004l\n",
      "\n",
      "\n",
      "\n",
      "\u001b[?2004h\n",
      "\u001b[?2004l\n",
      "\u001b[?2004h\n",
      "\u001b[?2004l\n",
      "\u001b[?2004h\u001b[?2004l\n",
      "\u001b[?2004h\u001b[?2004l\n",
      "\u001b[?2004h\u001b[?2004l\n",
      "\u001b[?2004h\u001b[?2004l\n",
      "\u001b[?2004h\u001b[?2004l\n",
      "\u001b[?2004h\u001b[?2004l\n",
      "\u001b[?2004h\u001b[?2004l\n",
      "\u001b[?2004h\u001b[?2004l\n",
      "\u001b[?2004h\u001b[?2004l\n",
      "\u001b[?2004h\u001b[?2004l\n",
      "\u001b[?2004h\u001b[?2004l\n",
      "\u001b[?2004h\u001b[?2004l\n",
      "\u001b[?2004h\u001b[?2004l\n",
      "\u001b[?2004h\u001b[?2004l\n",
      "\u001b[?2004h\u001b[?2004l\n",
      "\u001b[?2004h\u001b[?2004l\n",
      "\u001b[?2004h\u001b[?2004l\n",
      "\u001b[?2004h\u001b[?2004l\n",
      "\u001b[?2004h\u001b[?2004l\n",
      "\u001b[?2004h\u001b[?2004l\n",
      "\u001b[?2004h\u001b[?2004l\n",
      "\u001b[?2004h\u001b[?2004l\n",
      "\u001b[?2004h\u001b[?2004l\n",
      "\u001b[?2004h\u001b[?2004l\n",
      "\u001b[?2004h\u001b[?2004l\n",
      "\u001b[?2004h\u001b[?2004l\n",
      "\u001b[?2004h\u001b[?2004l\n",
      "\u001b[?2004h\u001b[?2004l\n",
      "\u001b[?2004h\u001b[?2004l\n",
      "\u001b[?2004h\u001b[?2004l\n",
      "\u001b[?2004h\u001b[?2004l\n",
      "\u001b[?2004h\u001b[?2004l\n",
      "\u001b[?2004h\u001b[?2004l\n",
      "\u001b[?2004h\u001b[?2004l\n",
      "\u001b[?2004h\u001b[?2004l\n",
      "\u001b[?2004h\u001b[?2004l\n",
      "\u001b[?2004h\u001b[?2004l\n",
      "\u001b[?2004h\u001b[?2004l\n",
      "\u001b[?2004h\u001b[?2004l\n",
      "\u001b[?2004h\u001b[?2004l\n",
      "\u001b[?2004h\u001b[?2004l\n",
      "\u001b[?2004h\u001b[?2004l\n",
      "\u001b[?2004h\u001b[?2004l\n",
      "\u001b[?2004h\u001b[?2004l\n",
      "\u001b[?2004h\u001b[?2004l\n",
      "\u001b[?2004h\u001b[?2004l\n",
      "\u001b[?2004h"
     ]
    }
   ],
   "source": [
    "function [L] = lagrange_poly(x, y)\n",
    "% Berechnet die Lagrange-Polynome für eine Lagrange-Interpolation\n",
    "% für die Eingabevektoren x und y\n",
    "% und gibt einen Graphen der Interpolationsfunktion zurück\n",
    "\n",
    "% Anzahl der Stützstellen\n",
    "n = length(x);\n",
    "\n",
    "% Initialisiere die Ausgabe-Lagrange-Polynom-Array\n",
    "L = zeros(n,n);\n",
    "\n",
    "% Iteriere über alle Stützstellen\n",
    "for j = 1:n\n",
    "    % Initialisiere das j-te Lagrange-Polynom\n",
    "    L(j,:) = ones(1,n);\n",
    "    % Iteriere über alle Stützstellen, außer der j-ten Stützstelle\n",
    "    for k = 1:n\n",
    "        if (k ~= j)\n",
    "            % Multipliziere das j-te Lagrange-Polynom mit (x - x_k) / (x_j - x_k)\n",
    "            L(j,:) = L(j,:) .* (x - x(k)) / (x(j) - x(k));\n",
    "        end\n",
    "    end\n",
    "end\n",
    "\n",
    "% Multipliziere jedes Lagrange-Polynom mit dem entsprechenden y-Wert\n",
    "for j = 1:n\n",
    "    L(j,:) = L(j,:) * y(j);\n",
    "end\n",
    "\n",
    "% Summiere alle Lagrange-Polynome auf\n",
    "L = sum(L);\n",
    "\n",
    "% Erstelle einen Vektor von x-Werten für die Interpolation\n",
    "x_interpol = linspace(min(x), max(x), 100);\n",
    "\n",
    "% Berechne die y-Werte für die Interpolation\n",
    "y_interpol = polyval(polyfit(x, y, n-1), x_interpol);\n",
    "\n",
    "% Erstelle einen Graphen der Interpolationsfunktion und der Stützstellen\n",
    "plot(x_interpol, y_interpol, 'b-', x, y, 'ro', 'LineWidth', 2);\n",
    "\n",
    "% Lege die Achsenbeschriftungen und den Titel fest\n",
    "xlabel('x');\n",
    "ylabel('y');\n",
    "title('Lagrange Interpolation');\n",
    "\n",
    "end\n",
    "\n"
   ]
  },
  {
   "cell_type": "code",
   "execution_count": 2,
   "id": "4aa0966d-7c81-463c-bed3-5c1e99a192fb",
   "metadata": {
    "tags": []
   },
   "outputs": [
    {
     "name": "stdout",
     "output_type": "stream",
     "text": [
      "\u001b[?2004l\n",
      "\u001b[?2004h\u001b[?2004l\n",
      "\u001b[?2004h\u001b[?2004l\n",
      "\u001b[?2004h\u001b[?2004l\n",
      "\u001b[?2004h\u001b[?2004l\n",
      "\u001b[?2004h\u001b[?2004l\n",
      "\u001b[?2004h"
     ]
    },
    {
     "data": {
      "image/png": "[encoded data removed]",
      "text/plain": [
       "<IPython.core.display.Image object>"
      ]
     },
     "metadata": {},
     "output_type": "display_data"
    }
   ],
   "source": [
    "% Erstelle 20 Stützstellen von x und y\n",
    "x = linspace(-5,5,10);\n",
    "y = 1./(1+x.^2);\n",
    "\n",
    "% Berechne das Lagrange-Polynom und zeichne den Graphen\n",
    "lagrange_poly(x,y);\n"
   ]
  },
  {
   "cell_type": "code",
   "execution_count": null,
   "id": "a4dae6cf-1e96-4211-9e4e-3ca00a58234f",
   "metadata": {},
   "outputs": [],
   "source": []
  }
 ],
 "metadata": {
  "kernelspec": {
   "display_name": "Octave",
   "language": "octave",
   "name": "octave"
  },
  "language_info": {
   "file_extension": ".m",
   "help_links": [
    {
     "text": "GNU Octave",
     "url": "https://www.gnu.org/software/octave/support.html"
    },
    {
     "text": "Octave Kernel",
     "url": "https://github.com/Calysto/octave_kernel"
    },
    {
     "text": "MetaKernel Magics",
     "url": "https://metakernel.readthedocs.io/en/latest/source/README.html"
    }
   ],
   "mimetype": "text/x-octave",
   "name": "octave",
   "version": "8.2.0"
  }
 },
 "nbformat": 4,
 "nbformat_minor": 5
}
